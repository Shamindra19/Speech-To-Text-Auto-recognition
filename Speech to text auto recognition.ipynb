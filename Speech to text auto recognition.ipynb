{
 "cells": [
  {
   "cell_type": "code",
   "execution_count": 2,
   "metadata": {},
   "outputs": [
    {
     "name": "stdout",
     "output_type": "stream",
     "text": [
      "The audio file contains\n",
      "Kora Kagaz tha yeh Man Mera\n"
     ]
    }
   ],
   "source": [
    "import speech_recognition as sr\n",
    "audio_file=(\"manasi.wav\")\n",
    "r=sr.Recognizer()\n",
    "with sr.AudioFile(audio_file) as source:\n",
    "    audio=r.record(source)\n",
    "try:\n",
    "    print(\"The audio file contains\\n\"+r.recognize_google(audio))\n",
    "except sr.UnknownValueError():\n",
    "    print(\"Google Speech recognition could not understand the audio\")\n",
    "except sr.RequestError():\n",
    "    print(\"Couldnot get the results\")"
   ]
  },
  {
   "cell_type": "code",
   "execution_count": null,
   "metadata": {},
   "outputs": [],
   "source": []
  }
 ],
 "metadata": {
  "kernelspec": {
   "display_name": "Python 3",
   "language": "python",
   "name": "python3"
  },
  "language_info": {
   "codemirror_mode": {
    "name": "ipython",
    "version": 3
   },
   "file_extension": ".py",
   "mimetype": "text/x-python",
   "name": "python",
   "nbconvert_exporter": "python",
   "pygments_lexer": "ipython3",
   "version": "3.7.1"
  }
 },
 "nbformat": 4,
 "nbformat_minor": 2
}
